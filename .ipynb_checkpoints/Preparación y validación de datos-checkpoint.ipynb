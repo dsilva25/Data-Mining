{
 "cells": [
  {
   "cell_type": "code",
   "execution_count": 1,
   "metadata": {},
   "outputs": [],
   "source": [
    "import pandas as pd\n",
    "import numpy as np\n",
    "import matplotlib.pyplot as plt\n",
    "import seaborn as sns"
   ]
  },
  {
   "cell_type": "code",
   "execution_count": 2,
   "metadata": {},
   "outputs": [],
   "source": [
    "# Para compatibilidad entre múltiples plataformas\n",
    "import os\n",
    "IB = os.environ.get('INSTABASE_URI',None) is not None\n",
    "open = ib.open if IB else open"
   ]
  },
  {
   "cell_type": "code",
   "execution_count": 5,
   "metadata": {},
   "outputs": [],
   "source": [
    "ventas = pd.read_csv('vgsales.csv')\n",
    "df = pd.DataFrame(ventas)\n",
    "\n",
    "\n",
    "## Transformación de Genero a numeros \n",
    "for i in range(0,len(df)):\n",
    "    if df.loc[i,'Genre']== 'Sports':\n",
    "        df.loc[i,'Genero']= str(0)\n",
    "    elif df.loc[i,'Genre']== 'Platform':\n",
    "        df.loc[i,'Genero']= (1)\n",
    "    elif df.loc[i,'Genre']== 'Action':\n",
    "        df.loc[i,'Genero']= (2)\n",
    "    elif df.loc[i,'Genre']== 'Adventure':\n",
    "        df.loc[i,'Genero']= (3)\n",
    "    elif df.loc[i,'Genre']== 'Misc':\n",
    "        df.loc[i,'Genero']= (4)\n",
    "    elif df.loc[i,'Genre']== 'Fighting':\n",
    "        df.loc[i,'Genero']= (5)\n",
    "    elif df.loc[i,'Genre']== 'Puzzle':\n",
    "        df.loc[i,'Genero']= (6)\n",
    "    elif df.loc[i,'Genre']== 'Racing':\n",
    "        df.loc[i,'Genero']= (7)\n",
    "    elif df.loc[i,'Genre']== 'Shooter':\n",
    "        df.loc[i,'Genero']= (8)\n",
    "    elif df.loc[i,'Genre']== 'Simulation':\n",
    "        df.loc[i,'Genero']= (9)\n",
    "    elif df.loc[i,'Genre']== 'Strategy':\n",
    "        df.loc[i,'Genero']= (10)\n",
    "    elif df.loc[i,'Genre']== 'Role-Playing':\n",
    "        df.loc[i,'Genero']= (11)\n",
    "    "
   ]
  },
  {
   "cell_type": "code",
   "execution_count": 6,
   "metadata": {},
   "outputs": [],
   "source": [
    "## Transformación de Plataforma a numeros \n",
    "for i in range(0,len(df)):\n",
    "    if df.loc[i,'Platform']== '2600':\n",
    "        df.loc[i,'Plataforma']= str(0)\n",
    "    elif df.loc[i,'Platform']== '3DO':\n",
    "        df.loc[i,'Plataforma']= (1)\n",
    "    elif df.loc[i,'Platform']== '3DS':\n",
    "        df.loc[i,'Plataforma']= (2)\n",
    "    elif df.loc[i,'Platform']== 'DC':\n",
    "        df.loc[i,'Plataforma']= (3)\n",
    "    elif df.loc[i,'Platform']== 'DS':\n",
    "        df.loc[i,'Plataforma']= (4)\n",
    "    elif df.loc[i,'Platform']== 'GB':\n",
    "        df.loc[i,'Plataforma']= (5)\n",
    "    elif df.loc[i,'Platform']== 'GBA':\n",
    "        df.loc[i,'Plataforma']= (6)\n",
    "    elif df.loc[i,'Platform']== 'GC':\n",
    "        df.loc[i,'Plataforma']= (7)\n",
    "    elif df.loc[i,'Platform']== 'GEN':\n",
    "        df.loc[i,'Plataforma']= (8)\n",
    "    elif df.loc[i,'Platform']== 'GG':\n",
    "        df.loc[i,'Plataforma']= (9)\n",
    "    elif df.loc[i,'Platform']== 'N64':\n",
    "        df.loc[i,'Plataforma']= (10)\n",
    "    elif df.loc[i,'Platform']== 'NES':\n",
    "        df.loc[i,'Plataforma']= (11)\n",
    "    elif df.loc[i,'Platform']== 'NG':\n",
    "        df.loc[i,'Plataforma']= (12)\n",
    "    elif df.loc[i,'Platform']== 'PC':\n",
    "        df.loc[i,'Plataforma']= (13)\n",
    "    elif df.loc[i,'Platform']== 'PCFX':\n",
    "        df.loc[i,'Plataforma']= (14)\n",
    "    elif df.loc[i,'Platform']== 'PS':\n",
    "        df.loc[i,'Plataforma']= (15)\n",
    "    elif df.loc[i,'Platform']== 'PS2':\n",
    "        df.loc[i,'Plataforma']= (16)\n",
    "    elif df.loc[i,'Platform']== 'PS3':\n",
    "        df.loc[i,'Plataforma']= (17)\n",
    "    elif df.loc[i,'Platform']== 'PS4':\n",
    "        df.loc[i,'Plataforma']= (18)\n",
    "    elif df.loc[i,'Platform']== 'PSP':\n",
    "        df.loc[i,'Plataforma']= (19)\n",
    "    elif df.loc[i,'Platform']== 'PSV':\n",
    "        df.loc[i,'Plataforma']= (20)\n",
    "    elif df.loc[i,'Platform']== 'SAT':\n",
    "        df.loc[i,'Plataforma']= (21)\n",
    "    elif df.loc[i,'Platform']== 'SCD':\n",
    "        df.loc[i,'Plataforma']= (22)\n",
    "    elif df.loc[i,'Platform']== 'SNES':\n",
    "        df.loc[i,'Plataforma']= (23)\n",
    "    elif df.loc[i,'Platform']== 'TG16':\n",
    "        df.loc[i,'Plataforma']= (24)\n",
    "    elif df.loc[i,'Platform']== 'WS':\n",
    "        df.loc[i,'Plataforma']= (25)\n",
    "    elif df.loc[i,'Platform']== 'Wii':\n",
    "        df.loc[i,'Plataforma']= (26)\n",
    "    elif df.loc[i,'Platform']== 'WiiU':\n",
    "        df.loc[i,'Plataforma']= (27)\n",
    "    elif df.loc[i,'Platform']== 'X360':\n",
    "        df.loc[i,'Plataforma']= (28)\n",
    "    elif df.loc[i,'Platform']== 'XB':\n",
    "        df.loc[i,'Plataforma']= (29)\n",
    "    elif df.loc[i,'Platform']== 'XOne':\n",
    "        df.loc[i,'Plataforma']= (30)\n"
   ]
  },
  {
   "cell_type": "code",
   "execution_count": 7,
   "metadata": {
    "scrolled": true
   },
   "outputs": [],
   "source": [
    "#Exportar nuevo csv con los datos\n",
    "df.reset_index().to_csv('juegos.csv')"
   ]
  },
  {
   "cell_type": "code",
   "execution_count": 8,
   "metadata": {
    "scrolled": false
   },
   "outputs": [
    {
     "data": {
      "text/html": [
       "<div>\n",
       "<style scoped>\n",
       "    .dataframe tbody tr th:only-of-type {\n",
       "        vertical-align: middle;\n",
       "    }\n",
       "\n",
       "    .dataframe tbody tr th {\n",
       "        vertical-align: top;\n",
       "    }\n",
       "\n",
       "    .dataframe thead th {\n",
       "        text-align: right;\n",
       "    }\n",
       "</style>\n",
       "<table border=\"1\" class=\"dataframe\">\n",
       "  <thead>\n",
       "    <tr style=\"text-align: right;\">\n",
       "      <th></th>\n",
       "      <th>Unnamed: 0</th>\n",
       "      <th>index</th>\n",
       "      <th>Rank</th>\n",
       "      <th>Name</th>\n",
       "      <th>Platform</th>\n",
       "      <th>Year</th>\n",
       "      <th>Genre</th>\n",
       "      <th>Publisher</th>\n",
       "      <th>NA_Sales</th>\n",
       "      <th>EU_Sales</th>\n",
       "      <th>JP_Sales</th>\n",
       "      <th>Other_Sales</th>\n",
       "      <th>Global_Sales</th>\n",
       "      <th>Genero</th>\n",
       "      <th>Plataforma</th>\n",
       "    </tr>\n",
       "  </thead>\n",
       "  <tbody>\n",
       "    <tr>\n",
       "      <th>0</th>\n",
       "      <td>0</td>\n",
       "      <td>0</td>\n",
       "      <td>1</td>\n",
       "      <td>Wii Sports</td>\n",
       "      <td>Wii</td>\n",
       "      <td>2006.0</td>\n",
       "      <td>Sports</td>\n",
       "      <td>Nintendo</td>\n",
       "      <td>41.49</td>\n",
       "      <td>29.02</td>\n",
       "      <td>3.77</td>\n",
       "      <td>8.46</td>\n",
       "      <td>82.74</td>\n",
       "      <td>0</td>\n",
       "      <td>26.0</td>\n",
       "    </tr>\n",
       "    <tr>\n",
       "      <th>1</th>\n",
       "      <td>1</td>\n",
       "      <td>1</td>\n",
       "      <td>2</td>\n",
       "      <td>Super Mario Bros.</td>\n",
       "      <td>NES</td>\n",
       "      <td>1985.0</td>\n",
       "      <td>Platform</td>\n",
       "      <td>Nintendo</td>\n",
       "      <td>29.08</td>\n",
       "      <td>3.58</td>\n",
       "      <td>6.81</td>\n",
       "      <td>0.77</td>\n",
       "      <td>40.24</td>\n",
       "      <td>1</td>\n",
       "      <td>11.0</td>\n",
       "    </tr>\n",
       "    <tr>\n",
       "      <th>2</th>\n",
       "      <td>2</td>\n",
       "      <td>2</td>\n",
       "      <td>3</td>\n",
       "      <td>Mario Kart Wii</td>\n",
       "      <td>Wii</td>\n",
       "      <td>2008.0</td>\n",
       "      <td>Racing</td>\n",
       "      <td>Nintendo</td>\n",
       "      <td>15.85</td>\n",
       "      <td>12.88</td>\n",
       "      <td>3.79</td>\n",
       "      <td>3.31</td>\n",
       "      <td>35.82</td>\n",
       "      <td>7</td>\n",
       "      <td>26.0</td>\n",
       "    </tr>\n",
       "    <tr>\n",
       "      <th>3</th>\n",
       "      <td>3</td>\n",
       "      <td>3</td>\n",
       "      <td>4</td>\n",
       "      <td>Wii Sports Resort</td>\n",
       "      <td>Wii</td>\n",
       "      <td>2009.0</td>\n",
       "      <td>Sports</td>\n",
       "      <td>Nintendo</td>\n",
       "      <td>15.75</td>\n",
       "      <td>11.01</td>\n",
       "      <td>3.28</td>\n",
       "      <td>2.96</td>\n",
       "      <td>33.00</td>\n",
       "      <td>0</td>\n",
       "      <td>26.0</td>\n",
       "    </tr>\n",
       "    <tr>\n",
       "      <th>4</th>\n",
       "      <td>4</td>\n",
       "      <td>4</td>\n",
       "      <td>5</td>\n",
       "      <td>Pokemon Red/Pokemon Blue</td>\n",
       "      <td>GB</td>\n",
       "      <td>1996.0</td>\n",
       "      <td>Role-Playing</td>\n",
       "      <td>Nintendo</td>\n",
       "      <td>11.27</td>\n",
       "      <td>8.89</td>\n",
       "      <td>10.22</td>\n",
       "      <td>1.00</td>\n",
       "      <td>31.37</td>\n",
       "      <td>11</td>\n",
       "      <td>5.0</td>\n",
       "    </tr>\n",
       "  </tbody>\n",
       "</table>\n",
       "</div>"
      ],
      "text/plain": [
       "   Unnamed: 0  index  Rank                      Name Platform    Year  \\\n",
       "0           0      0     1                Wii Sports      Wii  2006.0   \n",
       "1           1      1     2         Super Mario Bros.      NES  1985.0   \n",
       "2           2      2     3            Mario Kart Wii      Wii  2008.0   \n",
       "3           3      3     4         Wii Sports Resort      Wii  2009.0   \n",
       "4           4      4     5  Pokemon Red/Pokemon Blue       GB  1996.0   \n",
       "\n",
       "          Genre Publisher  NA_Sales  EU_Sales  JP_Sales  Other_Sales  \\\n",
       "0        Sports  Nintendo     41.49     29.02      3.77         8.46   \n",
       "1      Platform  Nintendo     29.08      3.58      6.81         0.77   \n",
       "2        Racing  Nintendo     15.85     12.88      3.79         3.31   \n",
       "3        Sports  Nintendo     15.75     11.01      3.28         2.96   \n",
       "4  Role-Playing  Nintendo     11.27      8.89     10.22         1.00   \n",
       "\n",
       "   Global_Sales  Genero  Plataforma  \n",
       "0         82.74       0        26.0  \n",
       "1         40.24       1        11.0  \n",
       "2         35.82       7        26.0  \n",
       "3         33.00       0        26.0  \n",
       "4         31.37      11         5.0  "
      ]
     },
     "execution_count": 8,
     "metadata": {},
     "output_type": "execute_result"
    }
   ],
   "source": [
    "#Traer datos del archivo\n",
    "dt = pd.read_csv('juegos.csv')\n",
    "df = pd.DataFrame(dt)\n",
    "df.head()"
   ]
  },
  {
   "cell_type": "code",
   "execution_count": 28,
   "metadata": {},
   "outputs": [
    {
     "data": {
      "text/plain": [
       "(16598, 15)"
      ]
     },
     "execution_count": 28,
     "metadata": {},
     "output_type": "execute_result"
    }
   ],
   "source": [
    "#Tamaño de la muestra\n",
    "dt.shape"
   ]
  },
  {
   "cell_type": "code",
   "execution_count": 29,
   "metadata": {},
   "outputs": [
    {
     "data": {
      "text/html": [
       "<div>\n",
       "<style scoped>\n",
       "    .dataframe tbody tr th:only-of-type {\n",
       "        vertical-align: middle;\n",
       "    }\n",
       "\n",
       "    .dataframe tbody tr th {\n",
       "        vertical-align: top;\n",
       "    }\n",
       "\n",
       "    .dataframe thead th {\n",
       "        text-align: right;\n",
       "    }\n",
       "</style>\n",
       "<table border=\"1\" class=\"dataframe\">\n",
       "  <thead>\n",
       "    <tr style=\"text-align: right;\">\n",
       "      <th></th>\n",
       "      <th>Unnamed: 0</th>\n",
       "      <th>index</th>\n",
       "      <th>Rank</th>\n",
       "      <th>Year</th>\n",
       "      <th>NA_Sales</th>\n",
       "      <th>EU_Sales</th>\n",
       "      <th>JP_Sales</th>\n",
       "      <th>Other_Sales</th>\n",
       "      <th>Global_Sales</th>\n",
       "      <th>Genero</th>\n",
       "      <th>Plataforma</th>\n",
       "    </tr>\n",
       "  </thead>\n",
       "  <tbody>\n",
       "    <tr>\n",
       "      <th>count</th>\n",
       "      <td>16598.000000</td>\n",
       "      <td>16598.000000</td>\n",
       "      <td>16598.000000</td>\n",
       "      <td>16327.000000</td>\n",
       "      <td>16598.000000</td>\n",
       "      <td>16598.000000</td>\n",
       "      <td>16598.000000</td>\n",
       "      <td>16598.000000</td>\n",
       "      <td>16598.000000</td>\n",
       "      <td>16598.000000</td>\n",
       "      <td>16598.000000</td>\n",
       "    </tr>\n",
       "    <tr>\n",
       "      <th>mean</th>\n",
       "      <td>8298.500000</td>\n",
       "      <td>8298.500000</td>\n",
       "      <td>8300.605254</td>\n",
       "      <td>2006.406443</td>\n",
       "      <td>0.264667</td>\n",
       "      <td>0.146652</td>\n",
       "      <td>0.077782</td>\n",
       "      <td>0.048063</td>\n",
       "      <td>0.537441</td>\n",
       "      <td>4.595011</td>\n",
       "      <td>15.797988</td>\n",
       "    </tr>\n",
       "    <tr>\n",
       "      <th>std</th>\n",
       "      <td>4791.574219</td>\n",
       "      <td>4791.574219</td>\n",
       "      <td>4791.853933</td>\n",
       "      <td>5.828981</td>\n",
       "      <td>0.816683</td>\n",
       "      <td>0.505351</td>\n",
       "      <td>0.309291</td>\n",
       "      <td>0.188588</td>\n",
       "      <td>1.555028</td>\n",
       "      <td>3.545754</td>\n",
       "      <td>8.392298</td>\n",
       "    </tr>\n",
       "    <tr>\n",
       "      <th>min</th>\n",
       "      <td>0.000000</td>\n",
       "      <td>0.000000</td>\n",
       "      <td>1.000000</td>\n",
       "      <td>1980.000000</td>\n",
       "      <td>0.000000</td>\n",
       "      <td>0.000000</td>\n",
       "      <td>0.000000</td>\n",
       "      <td>0.000000</td>\n",
       "      <td>0.010000</td>\n",
       "      <td>0.000000</td>\n",
       "      <td>0.000000</td>\n",
       "    </tr>\n",
       "    <tr>\n",
       "      <th>25%</th>\n",
       "      <td>4149.250000</td>\n",
       "      <td>4149.250000</td>\n",
       "      <td>4151.250000</td>\n",
       "      <td>2003.000000</td>\n",
       "      <td>0.000000</td>\n",
       "      <td>0.000000</td>\n",
       "      <td>0.000000</td>\n",
       "      <td>0.000000</td>\n",
       "      <td>0.060000</td>\n",
       "      <td>2.000000</td>\n",
       "      <td>7.000000</td>\n",
       "    </tr>\n",
       "    <tr>\n",
       "      <th>50%</th>\n",
       "      <td>8298.500000</td>\n",
       "      <td>8298.500000</td>\n",
       "      <td>8300.500000</td>\n",
       "      <td>2007.000000</td>\n",
       "      <td>0.080000</td>\n",
       "      <td>0.020000</td>\n",
       "      <td>0.000000</td>\n",
       "      <td>0.010000</td>\n",
       "      <td>0.170000</td>\n",
       "      <td>4.000000</td>\n",
       "      <td>16.000000</td>\n",
       "    </tr>\n",
       "    <tr>\n",
       "      <th>75%</th>\n",
       "      <td>12447.750000</td>\n",
       "      <td>12447.750000</td>\n",
       "      <td>12449.750000</td>\n",
       "      <td>2010.000000</td>\n",
       "      <td>0.240000</td>\n",
       "      <td>0.110000</td>\n",
       "      <td>0.040000</td>\n",
       "      <td>0.040000</td>\n",
       "      <td>0.470000</td>\n",
       "      <td>8.000000</td>\n",
       "      <td>21.000000</td>\n",
       "    </tr>\n",
       "    <tr>\n",
       "      <th>max</th>\n",
       "      <td>16597.000000</td>\n",
       "      <td>16597.000000</td>\n",
       "      <td>16600.000000</td>\n",
       "      <td>2020.000000</td>\n",
       "      <td>41.490000</td>\n",
       "      <td>29.020000</td>\n",
       "      <td>10.220000</td>\n",
       "      <td>10.570000</td>\n",
       "      <td>82.740000</td>\n",
       "      <td>11.000000</td>\n",
       "      <td>30.000000</td>\n",
       "    </tr>\n",
       "  </tbody>\n",
       "</table>\n",
       "</div>"
      ],
      "text/plain": [
       "         Unnamed: 0         index          Rank          Year      NA_Sales  \\\n",
       "count  16598.000000  16598.000000  16598.000000  16327.000000  16598.000000   \n",
       "mean    8298.500000   8298.500000   8300.605254   2006.406443      0.264667   \n",
       "std     4791.574219   4791.574219   4791.853933      5.828981      0.816683   \n",
       "min        0.000000      0.000000      1.000000   1980.000000      0.000000   \n",
       "25%     4149.250000   4149.250000   4151.250000   2003.000000      0.000000   \n",
       "50%     8298.500000   8298.500000   8300.500000   2007.000000      0.080000   \n",
       "75%    12447.750000  12447.750000  12449.750000   2010.000000      0.240000   \n",
       "max    16597.000000  16597.000000  16600.000000   2020.000000     41.490000   \n",
       "\n",
       "           EU_Sales      JP_Sales   Other_Sales  Global_Sales        Genero  \\\n",
       "count  16598.000000  16598.000000  16598.000000  16598.000000  16598.000000   \n",
       "mean       0.146652      0.077782      0.048063      0.537441      4.595011   \n",
       "std        0.505351      0.309291      0.188588      1.555028      3.545754   \n",
       "min        0.000000      0.000000      0.000000      0.010000      0.000000   \n",
       "25%        0.000000      0.000000      0.000000      0.060000      2.000000   \n",
       "50%        0.020000      0.000000      0.010000      0.170000      4.000000   \n",
       "75%        0.110000      0.040000      0.040000      0.470000      8.000000   \n",
       "max       29.020000     10.220000     10.570000     82.740000     11.000000   \n",
       "\n",
       "         Plataforma  \n",
       "count  16598.000000  \n",
       "mean      15.797988  \n",
       "std        8.392298  \n",
       "min        0.000000  \n",
       "25%        7.000000  \n",
       "50%       16.000000  \n",
       "75%       21.000000  \n",
       "max       30.000000  "
      ]
     },
     "execution_count": 29,
     "metadata": {},
     "output_type": "execute_result"
    }
   ],
   "source": [
    "#Describir las variables\n",
    "dt.describe()"
   ]
  },
  {
   "cell_type": "code",
   "execution_count": 10,
   "metadata": {},
   "outputs": [
    {
     "data": {
      "text/plain": [
       "2009.0    1431\n",
       "2008.0    1428\n",
       "2010.0    1259\n",
       "2007.0    1202\n",
       "2011.0    1139\n",
       "2006.0    1008\n",
       "2005.0     941\n",
       "2002.0     829\n",
       "2003.0     775\n",
       "2004.0     763\n",
       "2012.0     657\n",
       "2015.0     614\n",
       "2014.0     582\n",
       "2013.0     546\n",
       "2001.0     482\n",
       "1998.0     379\n",
       "2000.0     349\n",
       "2016.0     344\n",
       "1999.0     338\n",
       "1997.0     289\n",
       "1996.0     263\n",
       "1995.0     219\n",
       "1994.0     121\n",
       "1993.0      60\n",
       "1981.0      46\n",
       "1992.0      43\n",
       "1991.0      41\n",
       "1982.0      36\n",
       "1986.0      21\n",
       "1989.0      17\n",
       "1983.0      17\n",
       "1990.0      16\n",
       "1987.0      16\n",
       "1988.0      15\n",
       "1985.0      14\n",
       "1984.0      14\n",
       "1980.0       9\n",
       "2017.0       3\n",
       "2020.0       1\n",
       "Name: Year, dtype: int64"
      ]
     },
     "execution_count": 10,
     "metadata": {},
     "output_type": "execute_result"
    }
   ],
   "source": [
    "#Conteo de valores\n",
    "dt.Genre.value_counts()"
   ]
  },
  {
   "cell_type": "markdown",
   "metadata": {},
   "source": [
    "# variables Cuantitativas a predecir"
   ]
  },
  {
   "cell_type": "code",
   "execution_count": 10,
   "metadata": {},
   "outputs": [
    {
     "data": {
      "text/plain": [
       "76268"
      ]
     },
     "execution_count": 10,
     "metadata": {},
     "output_type": "execute_result"
    }
   ],
   "source": [
    "#Variable Genero\n",
    "dt.Genero.sum()"
   ]
  },
  {
   "cell_type": "code",
   "execution_count": 11,
   "metadata": {},
   "outputs": [
    {
     "data": {
      "text/plain": [
       "262215.0"
      ]
     },
     "execution_count": 11,
     "metadata": {},
     "output_type": "execute_result"
    }
   ],
   "source": [
    "#Variable Plataforma\n",
    "dt.Plataforma.sum()"
   ]
  },
  {
   "cell_type": "code",
   "execution_count": 12,
   "metadata": {},
   "outputs": [
    {
     "data": {
      "text/plain": [
       "8920.4400000000005"
      ]
     },
     "execution_count": 12,
     "metadata": {},
     "output_type": "execute_result"
    }
   ],
   "source": [
    "#variable Global_Sales\n",
    "dt.Global_Sales.sum()"
   ]
  },
  {
   "cell_type": "code",
   "execution_count": 13,
   "metadata": {},
   "outputs": [
    {
     "data": {
      "text/plain": [
       "152536"
      ]
     },
     "execution_count": 13,
     "metadata": {},
     "output_type": "execute_result"
    }
   ],
   "source": [
    "total = dt.Genero.sum() + dt.Genero.sum()\n",
    "total"
   ]
  },
  {
   "cell_type": "markdown",
   "metadata": {},
   "source": [
    "# Graficar Variables"
   ]
  },
  {
   "cell_type": "code",
   "execution_count": 14,
   "metadata": {},
   "outputs": [],
   "source": [
    "#Graficamos variables Genero\n",
    "sns.distplot(dt.Genero.dropna())\n",
    "plt.show()"
   ]
  },
  {
   "cell_type": "code",
   "execution_count": 15,
   "metadata": {},
   "outputs": [],
   "source": [
    "#Graficamos variables Plataforma\n",
    "sns.distplot(dt.Plataforma.dropna())\n",
    "plt.show()"
   ]
  },
  {
   "cell_type": "code",
   "execution_count": 16,
   "metadata": {},
   "outputs": [],
   "source": [
    "#Graficamos variables Year\n",
    "sns.distplot(dt.Year.dropna())\n",
    "plt.show()"
   ]
  },
  {
   "cell_type": "code",
   "execution_count": 17,
   "metadata": {},
   "outputs": [],
   "source": [
    "#Otra grafica\n",
    "sns.countplot(x=\"Genero\", data= dt, palette = \"Greens_d\")\n",
    "plt.show()"
   ]
  },
  {
   "cell_type": "code",
   "execution_count": 18,
   "metadata": {},
   "outputs": [],
   "source": [
    "#Otra grafica\n",
    "sns.countplot(x=\"Plataforma\", data= dt, palette = \"Greens_d\")\n",
    "plt.show()"
   ]
  },
  {
   "cell_type": "code",
   "execution_count": 25,
   "metadata": {},
   "outputs": [],
   "source": [
    "#Grafico Genero vs Ventas\n",
    "dt.plot(kind = 'bar', x='Genero', y='Global_Sales')\n",
    "plt.show()"
   ]
  },
  {
   "cell_type": "code",
   "execution_count": null,
   "metadata": {},
   "outputs": [],
   "source": [
    "#Grafico Plataforma vs Ventas\n",
    "dt.plot(kind = 'bar', x='Plataforma', y='Global_Sales')\n",
    "plt.show()"
   ]
  },
  {
   "cell_type": "code",
   "execution_count": 21,
   "metadata": {},
   "outputs": [],
   "source": [
    "#Grafico Año vs Ventas\n",
    "dt.plot(kind = 'scatter', x='Year', y='Global_Sales')\n",
    "plt.show()"
   ]
  },
  {
   "cell_type": "code",
   "execution_count": 22,
   "metadata": {},
   "outputs": [],
   "source": [
    "##Correlacion de varibles \n",
    "corrvariables = dt[[\"Rank\",\"Year\",\"NA_Sales\",\"EU_Sales\",\"Other_Sales\",\n",
    "                    \"Global_Sales\",\"Genero\",\"Plataforma\"]].corr()\n",
    "mask = np.array(corrvariables)\n",
    "mask[np.tril_indices_from(mask)] = False\n",
    "fig,ax = plt.subplots()\n",
    "fig.set_size_inches(20,10)\n",
    "sns.heatmap(corrvariables, mask = mask,vmax = .10,\n",
    "           square = True, annot = True)\n",
    "plt.show()"
   ]
  },
  {
   "cell_type": "code",
   "execution_count": null,
   "metadata": {},
   "outputs": [],
   "source": []
  }
 ],
 "metadata": {
  "kernelspec": {
   "display_name": "Python 2",
   "language": "python",
   "name": "python2"
  },
  "language_info": {
   "codemirror_mode": {
    "name": "ipython",
    "version": 2
   },
   "file_extension": ".py",
   "mimetype": "text/x-python",
   "name": "python",
   "nbconvert_exporter": "python",
   "pygments_lexer": "ipython2",
   "version": "2.7.6"
  }
 },
 "nbformat": 4,
 "nbformat_minor": 2
}
